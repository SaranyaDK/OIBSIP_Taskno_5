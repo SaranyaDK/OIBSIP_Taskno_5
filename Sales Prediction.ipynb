{
 "cells": [
  {
   "cell_type": "markdown",
   "id": "6e0114da",
   "metadata": {},
   "source": [
    "# DataScience Intern at Oasis Infobyte"
   ]
  },
  {
   "cell_type": "markdown",
   "id": "09ea8192",
   "metadata": {},
   "source": [
    "# ======================================================="
   ]
  },
  {
   "cell_type": "markdown",
   "id": "4470a697",
   "metadata": {},
   "source": [
    "# Task 5  : Sales Prediction Using Python"
   ]
  },
  {
   "cell_type": "markdown",
   "id": "702fe79e",
   "metadata": {},
   "source": [
    "# Name   : Saranya D"
   ]
  },
  {
   "cell_type": "markdown",
   "id": "28a28861",
   "metadata": {},
   "source": [
    "# ======================================================="
   ]
  },
  {
   "cell_type": "markdown",
   "id": "a1ffb6f0",
   "metadata": {},
   "source": [
    "# Importing packages"
   ]
  },
  {
   "cell_type": "code",
   "execution_count": 118,
   "id": "550f3616",
   "metadata": {},
   "outputs": [],
   "source": [
    "import pandas as pd\n",
    "import numpy as np\n",
    "import matplotlib.pyplot as plt\n",
    "import math as m\n",
    "import seaborn as sns"
   ]
  },
  {
   "cell_type": "markdown",
   "id": "b5561c41",
   "metadata": {},
   "source": [
    "Uploading Dataset"
   ]
  },
  {
   "cell_type": "code",
   "execution_count": 120,
   "id": "50b76a39",
   "metadata": {},
   "outputs": [],
   "source": [
    "sales_df = pd.read_csv(\"Advertising.csv\")"
   ]
  },
  {
   "cell_type": "markdown",
   "id": "8d3a3e68",
   "metadata": {},
   "source": [
    "Getting details about the uploaded dataset"
   ]
  },
  {
   "cell_type": "code",
   "execution_count": 121,
   "id": "f1281b22",
   "metadata": {},
   "outputs": [
    {
     "name": "stdout",
     "output_type": "stream",
     "text": [
      "   Unnamed: 0     TV  Radio  Newspaper  Sales\n",
      "0           1  230.1   37.8       69.2   22.1\n",
      "1           2   44.5   39.3       45.1   10.4\n",
      "2           3   17.2   45.9       69.3    9.3\n",
      "3           4  151.5   41.3       58.5   18.5\n",
      "4           5  180.8   10.8       58.4   12.9\n",
      "5           6    8.7   48.9       75.0    7.2\n",
      "6           7   57.5   32.8       23.5   11.8\n",
      "7           8  120.2   19.6       11.6   13.2\n",
      "8           9    8.6    2.1        1.0    4.8\n",
      "9          10  199.8    2.6       21.2   10.6\n"
     ]
    }
   ],
   "source": [
    "print(sales_df.head(10))"
   ]
  },
  {
   "cell_type": "code",
   "execution_count": 122,
   "id": "8a3f0045",
   "metadata": {},
   "outputs": [
    {
     "name": "stdout",
     "output_type": "stream",
     "text": [
      "     Unnamed: 0     TV  Radio  Newspaper  Sales\n",
      "190         191   39.5   41.1        5.8   10.8\n",
      "191         192   75.5   10.8        6.0    9.9\n",
      "192         193   17.2    4.1       31.6    5.9\n",
      "193         194  166.8   42.0        3.6   19.6\n",
      "194         195  149.7   35.6        6.0   17.3\n",
      "195         196   38.2    3.7       13.8    7.6\n",
      "196         197   94.2    4.9        8.1    9.7\n",
      "197         198  177.0    9.3        6.4   12.8\n",
      "198         199  283.6   42.0       66.2   25.5\n",
      "199         200  232.1    8.6        8.7   13.4\n"
     ]
    }
   ],
   "source": [
    "print(sales_df.tail(10))"
   ]
  },
  {
   "cell_type": "code",
   "execution_count": 123,
   "id": "727f18fd",
   "metadata": {},
   "outputs": [
    {
     "data": {
      "text/plain": [
       "1000"
      ]
     },
     "execution_count": 123,
     "metadata": {},
     "output_type": "execute_result"
    }
   ],
   "source": [
    "sales_df.size"
   ]
  },
  {
   "cell_type": "code",
   "execution_count": 124,
   "id": "a76ae779",
   "metadata": {},
   "outputs": [],
   "source": [
    "sales_df.drop('Unnamed: 0', axis = 1, inplace = True)"
   ]
  },
  {
   "cell_type": "code",
   "execution_count": 125,
   "id": "89b11d41",
   "metadata": {},
   "outputs": [
    {
     "name": "stdout",
     "output_type": "stream",
     "text": [
      "      TV  Radio  Newspaper  Sales\n",
      "0  230.1   37.8       69.2   22.1\n",
      "1   44.5   39.3       45.1   10.4\n",
      "2   17.2   45.9       69.3    9.3\n",
      "3  151.5   41.3       58.5   18.5\n",
      "4  180.8   10.8       58.4   12.9\n",
      "5    8.7   48.9       75.0    7.2\n",
      "6   57.5   32.8       23.5   11.8\n",
      "7  120.2   19.6       11.6   13.2\n",
      "8    8.6    2.1        1.0    4.8\n",
      "9  199.8    2.6       21.2   10.6\n"
     ]
    }
   ],
   "source": [
    "print(sales_df.head(10))"
   ]
  },
  {
   "cell_type": "code",
   "execution_count": 126,
   "id": "a709aeaa",
   "metadata": {},
   "outputs": [
    {
     "name": "stdout",
     "output_type": "stream",
     "text": [
      "    TV  Radio  Newspaper  Sales\n",
      "0  230     37         69   22.1\n",
      "1   44     39         45   10.4\n",
      "2   17     45         69    9.3\n",
      "3  151     41         58   18.5\n",
      "4  180     10         58   12.9\n",
      "5    8     48         75    7.2\n",
      "6   57     32         23   11.8\n",
      "7  120     19         11   13.2\n",
      "8    8      2          1    4.8\n",
      "9  199      2         21   10.6\n"
     ]
    }
   ],
   "source": [
    "sales_df[['TV','Radio', 'Newspaper']] = sales_df[['TV','Radio', 'Newspaper']].astype('int')\n",
    "print(sales_df.head(10))"
   ]
  },
  {
   "cell_type": "code",
   "execution_count": 127,
   "id": "647af7bd",
   "metadata": {},
   "outputs": [
    {
     "data": {
      "text/plain": [
       "(200, 4)"
      ]
     },
     "execution_count": 127,
     "metadata": {},
     "output_type": "execute_result"
    }
   ],
   "source": [
    "sales_df.shape"
   ]
  },
  {
   "cell_type": "code",
   "execution_count": 128,
   "id": "e2272460",
   "metadata": {},
   "outputs": [
    {
     "data": {
      "text/plain": [
       "TV           0\n",
       "Radio        0\n",
       "Newspaper    0\n",
       "Sales        0\n",
       "dtype: int64"
      ]
     },
     "execution_count": 128,
     "metadata": {},
     "output_type": "execute_result"
    }
   ],
   "source": [
    "sales_df.isnull().sum()"
   ]
  },
  {
   "cell_type": "code",
   "execution_count": 129,
   "id": "5e7aef27",
   "metadata": {},
   "outputs": [
    {
     "data": {
      "text/plain": [
       "0"
      ]
     },
     "execution_count": 129,
     "metadata": {},
     "output_type": "execute_result"
    }
   ],
   "source": [
    "sales_df.duplicated().sum()"
   ]
  },
  {
   "cell_type": "code",
   "execution_count": 130,
   "id": "d678eae5",
   "metadata": {},
   "outputs": [
    {
     "data": {
      "text/plain": [
       "800"
      ]
     },
     "execution_count": 130,
     "metadata": {},
     "output_type": "execute_result"
    }
   ],
   "source": [
    "sales_df.size"
   ]
  },
  {
   "cell_type": "code",
   "execution_count": 131,
   "id": "1389853f",
   "metadata": {},
   "outputs": [
    {
     "data": {
      "text/html": [
       "<div>\n",
       "<style scoped>\n",
       "    .dataframe tbody tr th:only-of-type {\n",
       "        vertical-align: middle;\n",
       "    }\n",
       "\n",
       "    .dataframe tbody tr th {\n",
       "        vertical-align: top;\n",
       "    }\n",
       "\n",
       "    .dataframe thead th {\n",
       "        text-align: right;\n",
       "    }\n",
       "</style>\n",
       "<table border=\"1\" class=\"dataframe\">\n",
       "  <thead>\n",
       "    <tr style=\"text-align: right;\">\n",
       "      <th></th>\n",
       "      <th>TV</th>\n",
       "      <th>Radio</th>\n",
       "      <th>Newspaper</th>\n",
       "      <th>Sales</th>\n",
       "    </tr>\n",
       "  </thead>\n",
       "  <tbody>\n",
       "    <tr>\n",
       "      <th>count</th>\n",
       "      <td>200.000000</td>\n",
       "      <td>200.00000</td>\n",
       "      <td>200.000000</td>\n",
       "      <td>200.000000</td>\n",
       "    </tr>\n",
       "    <tr>\n",
       "      <th>mean</th>\n",
       "      <td>146.570000</td>\n",
       "      <td>22.79000</td>\n",
       "      <td>30.100000</td>\n",
       "      <td>14.022500</td>\n",
       "    </tr>\n",
       "    <tr>\n",
       "      <th>std</th>\n",
       "      <td>85.824731</td>\n",
       "      <td>14.82582</td>\n",
       "      <td>21.769233</td>\n",
       "      <td>5.217457</td>\n",
       "    </tr>\n",
       "    <tr>\n",
       "      <th>min</th>\n",
       "      <td>0.000000</td>\n",
       "      <td>0.00000</td>\n",
       "      <td>0.000000</td>\n",
       "      <td>1.600000</td>\n",
       "    </tr>\n",
       "    <tr>\n",
       "      <th>25%</th>\n",
       "      <td>73.750000</td>\n",
       "      <td>9.75000</td>\n",
       "      <td>12.000000</td>\n",
       "      <td>10.375000</td>\n",
       "    </tr>\n",
       "    <tr>\n",
       "      <th>50%</th>\n",
       "      <td>149.000000</td>\n",
       "      <td>22.50000</td>\n",
       "      <td>25.000000</td>\n",
       "      <td>12.900000</td>\n",
       "    </tr>\n",
       "    <tr>\n",
       "      <th>75%</th>\n",
       "      <td>218.250000</td>\n",
       "      <td>36.00000</td>\n",
       "      <td>45.000000</td>\n",
       "      <td>17.400000</td>\n",
       "    </tr>\n",
       "    <tr>\n",
       "      <th>max</th>\n",
       "      <td>296.000000</td>\n",
       "      <td>49.00000</td>\n",
       "      <td>114.000000</td>\n",
       "      <td>27.000000</td>\n",
       "    </tr>\n",
       "  </tbody>\n",
       "</table>\n",
       "</div>"
      ],
      "text/plain": [
       "               TV      Radio   Newspaper       Sales\n",
       "count  200.000000  200.00000  200.000000  200.000000\n",
       "mean   146.570000   22.79000   30.100000   14.022500\n",
       "std     85.824731   14.82582   21.769233    5.217457\n",
       "min      0.000000    0.00000    0.000000    1.600000\n",
       "25%     73.750000    9.75000   12.000000   10.375000\n",
       "50%    149.000000   22.50000   25.000000   12.900000\n",
       "75%    218.250000   36.00000   45.000000   17.400000\n",
       "max    296.000000   49.00000  114.000000   27.000000"
      ]
     },
     "execution_count": 131,
     "metadata": {},
     "output_type": "execute_result"
    }
   ],
   "source": [
    "sales_df.describe()"
   ]
  },
  {
   "cell_type": "code",
   "execution_count": 132,
   "id": "555ce4f4",
   "metadata": {
    "scrolled": true
   },
   "outputs": [
    {
     "name": "stdout",
     "output_type": "stream",
     "text": [
      "<class 'pandas.core.frame.DataFrame'>\n",
      "RangeIndex: 200 entries, 0 to 199\n",
      "Data columns (total 4 columns):\n",
      " #   Column     Non-Null Count  Dtype  \n",
      "---  ------     --------------  -----  \n",
      " 0   TV         200 non-null    int32  \n",
      " 1   Radio      200 non-null    int32  \n",
      " 2   Newspaper  200 non-null    int32  \n",
      " 3   Sales      200 non-null    float64\n",
      "dtypes: float64(1), int32(3)\n",
      "memory usage: 4.0 KB\n"
     ]
    }
   ],
   "source": [
    "sales_df.info()"
   ]
  },
  {
   "cell_type": "markdown",
   "id": "3912f90d",
   "metadata": {},
   "source": [
    "# Data Visualisation"
   ]
  },
  {
   "cell_type": "code",
   "execution_count": 133,
   "id": "bbb41529",
   "metadata": {},
   "outputs": [
    {
     "data": {
      "image/png": "[encoded data removed]",
      "text/plain": [
       "<Figure size 640x480 with 1 Axes>"
      ]
     },
     "metadata": {},
     "output_type": "display_data"
    }
   ],
   "source": [
    "sales_df[['Sales']].plot(kind = \"hist\", bins = 10)\n",
    "plt.show()"
   ]
  },
  {
   "cell_type": "code",
   "execution_count": 134,
   "id": "94d99cdf",
   "metadata": {},
   "outputs": [
    {
     "name": "stderr",
     "output_type": "stream",
     "text": [
      "C:\\Users\\ELCOT\\anaconda3\\Saranya_prgms\\lib\\site-packages\\seaborn\\_decorators.py:36: FutureWarning: Pass the following variables as keyword args: x, y. From version 0.12, the only valid positional argument will be `data`, and passing other arguments without an explicit keyword will result in an error or misinterpretation.\n",
      "  warnings.warn(\n"
     ]
    },
    {
     "data": {
      "image/png": "[encoded data removed]",
      "text/plain": [
       "<Figure size 640x480 with 1 Axes>"
      ]
     },
     "metadata": {},
     "output_type": "display_data"
    }
   ],
   "source": [
    "sns.scatterplot(sales_df['TV'], sales_df['Sales'])\n",
    "plt.title('Sales through the TV advertisements')\n",
    "plt.show()"
   ]
  },
  {
   "cell_type": "markdown",
   "id": "c4f9038e",
   "metadata": {},
   "source": [
    "Advertisement through the TV is steadily increasing"
   ]
  },
  {
   "cell_type": "code",
   "execution_count": 135,
   "id": "801c7e87",
   "metadata": {},
   "outputs": [
    {
     "name": "stderr",
     "output_type": "stream",
     "text": [
      "C:\\Users\\ELCOT\\anaconda3\\Saranya_prgms\\lib\\site-packages\\seaborn\\_decorators.py:36: FutureWarning: Pass the following variables as keyword args: x, y. From version 0.12, the only valid positional argument will be `data`, and passing other arguments without an explicit keyword will result in an error or misinterpretation.\n",
      "  warnings.warn(\n"
     ]
    },
    {
     "data": {
      "image/png": "[encoded data removed]",
      "text/plain": [
       "<Figure size 640x480 with 1 Axes>"
      ]
     },
     "metadata": {},
     "output_type": "display_data"
    }
   ],
   "source": [
    "sns.scatterplot(sales_df['Radio'], sales_df['Sales'])\n",
    "plt.title(\"Sales through the Radio\")\n",
    "plt.show()"
   ]
  },
  {
   "cell_type": "markdown",
   "id": "372c4d04",
   "metadata": {},
   "source": [
    "For Sales Advertisement through the Radio is also increases but not like TV"
   ]
  },
  {
   "cell_type": "code",
   "execution_count": 136,
   "id": "218213ce",
   "metadata": {},
   "outputs": [
    {
     "name": "stderr",
     "output_type": "stream",
     "text": [
      "C:\\Users\\ELCOT\\anaconda3\\Saranya_prgms\\lib\\site-packages\\seaborn\\_decorators.py:36: FutureWarning: Pass the following variables as keyword args: x, y. From version 0.12, the only valid positional argument will be `data`, and passing other arguments without an explicit keyword will result in an error or misinterpretation.\n",
      "  warnings.warn(\n"
     ]
    },
    {
     "data": {
      "image/png": "[encoded data removed]",
      "text/plain": [
       "<Figure size 640x480 with 1 Axes>"
      ]
     },
     "metadata": {},
     "output_type": "display_data"
    }
   ],
   "source": [
    "sns.scatterplot(sales_df['Newspaper'], sales_df['Sales'])\n",
    "plt.title(\"Sales through the Newspaper\")\n",
    "plt.show()\n"
   ]
  },
  {
   "cell_type": "markdown",
   "id": "7d78798c",
   "metadata": {},
   "source": [
    "For Sales the advertisement through the Newspaper is increases high at first, after sometimes this method unused"
   ]
  },
  {
   "cell_type": "markdown",
   "id": "2d208c18",
   "metadata": {},
   "source": [
    "# Correlation Matrix"
   ]
  },
  {
   "cell_type": "code",
   "execution_count": 144,
   "id": "faafe221",
   "metadata": {},
   "outputs": [
    {
     "name": "stdout",
     "output_type": "stream",
     "text": [
      "             TV  Radio  Newspaper  Sales\n",
      "TV         1.00   0.06       0.06   0.78\n",
      "Radio      0.06   1.00       0.35   0.58\n",
      "Newspaper  0.06   0.35       1.00   0.23\n",
      "Sales      0.78   0.58       0.23   1.00\n"
     ]
    }
   ],
   "source": [
    "corr_mat = sales_df.corr().round(2)\n",
    "print(corr_mat)"
   ]
  },
  {
   "cell_type": "code",
   "execution_count": 145,
   "id": "48f510a1",
   "metadata": {},
   "outputs": [
    {
     "data": {
      "image/png": "[encoded data removed]",
      "text/plain": [
       "<Figure size 1500x1000 with 2 Axes>"
      ]
     },
     "metadata": {},
     "output_type": "display_data"
    }
   ],
   "source": [
    "sns.set_style('whitegrid')\n",
    "plt.figure(figsize = (15,10))\n",
    "sns.heatmap(sales_df.corr())\n",
    "plt.show()"
   ]
  },
  {
   "cell_type": "markdown",
   "id": "3504fd24",
   "metadata": {},
   "source": [
    "From the above relation we can say that TV is maximum correlated with Sales"
   ]
  },
  {
   "cell_type": "markdown",
   "id": "e96d66fc",
   "metadata": {},
   "source": [
    "# Data Preparation"
   ]
  },
  {
   "cell_type": "code",
   "execution_count": 146,
   "id": "9f6e1434",
   "metadata": {},
   "outputs": [],
   "source": [
    "X=sales_df[['TV', 'Radio', 'Newspaper']]\n",
    "Y=sales_df['Sales']"
   ]
  },
  {
   "cell_type": "code",
   "execution_count": 147,
   "id": "b0355f51",
   "metadata": {},
   "outputs": [
    {
     "name": "stdout",
     "output_type": "stream",
     "text": [
      "      TV  Radio  Newspaper\n",
      "0    230     37         69\n",
      "1     44     39         45\n",
      "2     17     45         69\n",
      "3    151     41         58\n",
      "4    180     10         58\n",
      "..   ...    ...        ...\n",
      "195   38      3         13\n",
      "196   94      4          8\n",
      "197  177      9          6\n",
      "198  283     42         66\n",
      "199  232      8          8\n",
      "\n",
      "[200 rows x 3 columns]\n"
     ]
    }
   ],
   "source": [
    "print(X)"
   ]
  },
  {
   "cell_type": "code",
   "execution_count": 148,
   "id": "8c305be3",
   "metadata": {},
   "outputs": [
    {
     "name": "stdout",
     "output_type": "stream",
     "text": [
      "0      22.1\n",
      "1      10.4\n",
      "2       9.3\n",
      "3      18.5\n",
      "4      12.9\n",
      "       ... \n",
      "195     7.6\n",
      "196     9.7\n",
      "197    12.8\n",
      "198    25.5\n",
      "199    13.4\n",
      "Name: Sales, Length: 200, dtype: float64\n"
     ]
    }
   ],
   "source": [
    "print(Y)"
   ]
  },
  {
   "cell_type": "code",
   "execution_count": 149,
   "id": "45f07afc",
   "metadata": {},
   "outputs": [
    {
     "data": {
      "image/png": "[encoded data removed]",
      "text/plain": [
       "<Figure size 640x480 with 1 Axes>"
      ]
     },
     "metadata": {},
     "output_type": "display_data"
    }
   ],
   "source": [
    "sns.histplot(X,bins = 10)\n",
    "plt.ylabel('Sales')\n",
    "plt.xlabel('Advertising ways')\n",
    "plt.title(\"Sales Prediction\")\n",
    "plt.show()"
   ]
  },
  {
   "cell_type": "markdown",
   "id": "087ca5d8",
   "metadata": {},
   "source": [
    "The way of advertising using TV is in a steady position"
   ]
  },
  {
   "cell_type": "markdown",
   "id": "edab87c8",
   "metadata": {},
   "source": [
    "# Train_test_split"
   ]
  },
  {
   "cell_type": "code",
   "execution_count": 150,
   "id": "56470e8e",
   "metadata": {},
   "outputs": [],
   "source": [
    "from sklearn.model_selection import train_test_split\n",
    "X_train, X_test, Y_train, Y_test = train_test_split(X, Y, test_size = 0.2, random_state = 50)"
   ]
  },
  {
   "cell_type": "code",
   "execution_count": 151,
   "id": "c8c84cf9",
   "metadata": {},
   "outputs": [
    {
     "name": "stdout",
     "output_type": "stream",
     "text": [
      "(200, 3)\n",
      "(200,)\n"
     ]
    }
   ],
   "source": [
    "print(X.shape)\n",
    "print(Y_new.shape)"
   ]
  },
  {
   "cell_type": "markdown",
   "id": "ea5c91d5",
   "metadata": {},
   "source": [
    "Checking the rows of the test and training models"
   ]
  },
  {
   "cell_type": "code",
   "execution_count": 153,
   "id": "2e7853fa",
   "metadata": {},
   "outputs": [
    {
     "name": "stdout",
     "output_type": "stream",
     "text": [
      "(160, 3)\n",
      "(160,)\n",
      "(40, 3)\n",
      "(40,)\n"
     ]
    }
   ],
   "source": [
    "print(X_train.shape)\n",
    "print(Y_train.shape)\n",
    "print(X_test.shape)\n",
    "print(Y_test.shape)"
   ]
  },
  {
   "cell_type": "code",
   "execution_count": 154,
   "id": "d701b7df",
   "metadata": {},
   "outputs": [
    {
     "data": {
      "text/plain": [
       "LinearRegression()"
      ]
     },
     "execution_count": 154,
     "metadata": {},
     "output_type": "execute_result"
    }
   ],
   "source": [
    "from sklearn.linear_model import LinearRegression\n",
    "model = LinearRegression()\n",
    "model.fit(X_train, Y_train)"
   ]
  },
  {
   "cell_type": "markdown",
   "id": "1a4030cd",
   "metadata": {},
   "source": [
    "# Finding Intercept and Coefficient"
   ]
  },
  {
   "cell_type": "code",
   "execution_count": 155,
   "id": "d5cde0fa",
   "metadata": {},
   "outputs": [
    {
     "name": "stdout",
     "output_type": "stream",
     "text": [
      "Intercept : 2.74\n",
      "Coefficient : [0.05 0.19 0.  ]\n"
     ]
    }
   ],
   "source": [
    "print(\"Intercept :\",model.intercept_.round(2))\n",
    "print(\"Coefficient :\",model.coef_.round(2))\n"
   ]
  },
  {
   "cell_type": "code",
   "execution_count": 156,
   "id": "edf90dfa",
   "metadata": {},
   "outputs": [
    {
     "name": "stdout",
     "output_type": "stream",
     "text": [
      "TV           408.754381\n",
      "Radio         66.753858\n",
      "Newspaper     82.645210\n",
      "dtype: float64\n"
     ]
    }
   ],
   "source": [
    "print((model.intercept_+model.coef_)*X.mean())"
   ]
  },
  {
   "cell_type": "markdown",
   "id": "6fcaee09",
   "metadata": {},
   "source": [
    "# Prediction"
   ]
  },
  {
   "cell_type": "code",
   "execution_count": 157,
   "id": "1abd6828",
   "metadata": {},
   "outputs": [],
   "source": [
    "# Predicting the test models"
   ]
  },
  {
   "cell_type": "code",
   "execution_count": 158,
   "id": "bb38c499",
   "metadata": {},
   "outputs": [
    {
     "name": "stdout",
     "output_type": "stream",
     "text": [
      "[13.78 14.62 10.63  9.86 10.02 18.24 15.17  3.5  20.5  11.84 14.86 12.76\n",
      " 21.04 14.31 15.68 16.93 10.11 16.55  9.52 12.4  16.86 10.13  7.97 13.78\n",
      " 21.03 14.31  7.06  7.42 15.4  13.43 14.93 10.02 11.89 16.36  6.37  9.57\n",
      " 12.99 20.35  8.98 11.26]\n",
      "<class 'numpy.ndarray'>\n"
     ]
    }
   ],
   "source": [
    "y_test_predicted = model.predict(X_test).round(2)\n",
    "print(y_test_predicted)\n",
    "print(type(y_test_predicted))"
   ]
  },
  {
   "cell_type": "code",
   "execution_count": 159,
   "id": "3f5055ab",
   "metadata": {},
   "outputs": [
    {
     "data": {
      "text/plain": [
       "(40,)"
      ]
     },
     "execution_count": 159,
     "metadata": {},
     "output_type": "execute_result"
    }
   ],
   "source": [
    "y_test_predicted.shape"
   ]
  },
  {
   "cell_type": "markdown",
   "id": "09a122a1",
   "metadata": {},
   "source": [
    "# Mean Square Error"
   ]
  },
  {
   "cell_type": "code",
   "execution_count": 160,
   "id": "0e154207",
   "metadata": {},
   "outputs": [
    {
     "name": "stdout",
     "output_type": "stream",
     "text": [
      "Mean_Squared_Error is : 2.1878525\n"
     ]
    }
   ],
   "source": [
    "from sklearn.metrics import mean_squared_error\n",
    "mse = mean_squared_error(Y_test, y_test_predicted)\n",
    "print(\"Mean_Squared_Error is :\",mse)"
   ]
  },
  {
   "cell_type": "markdown",
   "id": "bb817d0d",
   "metadata": {},
   "source": [
    "# Mean Absolute Error"
   ]
  },
  {
   "cell_type": "code",
   "execution_count": 161,
   "id": "30d0f78c",
   "metadata": {},
   "outputs": [],
   "source": [
    "from sklearn.metrics import mean_absolute_error as abs"
   ]
  },
  {
   "cell_type": "code",
   "execution_count": 162,
   "id": "c732476e",
   "metadata": {},
   "outputs": [],
   "source": [
    "mae = abs(Y_test, y_test_predicted)"
   ]
  },
  {
   "cell_type": "code",
   "execution_count": 163,
   "id": "c2b6deef",
   "metadata": {},
   "outputs": [
    {
     "name": "stdout",
     "output_type": "stream",
     "text": [
      "Mean_Absolute_Error is : 1.1342500000000002\n"
     ]
    }
   ],
   "source": [
    "print(\"Mean_Absolute_Error is :\", mae.mean())"
   ]
  },
  {
   "cell_type": "markdown",
   "id": "c7c62c68",
   "metadata": {},
   "source": [
    "# RMSE"
   ]
  },
  {
   "cell_type": "code",
   "execution_count": 164,
   "id": "b1e95706",
   "metadata": {},
   "outputs": [
    {
     "name": "stdout",
     "output_type": "stream",
     "text": [
      "RMSE : 1.4791391077244898\n"
     ]
    }
   ],
   "source": [
    "rmse = np.sqrt(mse)\n",
    "print(\"RMSE :\",rmse)"
   ]
  },
  {
   "cell_type": "markdown",
   "id": "73e383eb",
   "metadata": {},
   "source": [
    "# r2_score"
   ]
  },
  {
   "cell_type": "code",
   "execution_count": 165,
   "id": "0ed38dd6",
   "metadata": {},
   "outputs": [],
   "source": [
    "from sklearn.metrics import r2_score"
   ]
  },
  {
   "cell_type": "code",
   "execution_count": 166,
   "id": "87a9ebd3",
   "metadata": {},
   "outputs": [],
   "source": [
    "r2 = r2_score(Y_test, y_test_predicted)\n"
   ]
  },
  {
   "cell_type": "code",
   "execution_count": 167,
   "id": "a70f3196",
   "metadata": {},
   "outputs": [
    {
     "name": "stdout",
     "output_type": "stream",
     "text": [
      "r2_score : 84.63357418154044\n"
     ]
    }
   ],
   "source": [
    "print('r2_score :',r2*100)"
   ]
  },
  {
   "cell_type": "markdown",
   "id": "9614b9a0",
   "metadata": {},
   "source": [
    "# Thus the sales advertisement with machine learning using python was predicted"
   ]
  },
  {
   "cell_type": "markdown",
   "id": "230c08e8",
   "metadata": {},
   "source": [
    "# Thankyou"
   ]
  },
  {
   "cell_type": "code",
   "execution_count": null,
   "id": "801ad64d",
   "metadata": {},
   "outputs": [],
   "source": []
  }
 ],
 "metadata": {
  "kernelspec": {
   "display_name": "Python 3 (ipykernel)",
   "language": "python",
   "name": "python3"
  },
  "language_info": {
   "codemirror_mode": {
    "name": "ipython",
    "version": 3
   },
   "file_extension": ".py",
   "mimetype": "text/x-python",
   "name": "python",
   "nbconvert_exporter": "python",
   "pygments_lexer": "ipython3",
   "version": "3.9.13"
  }
 },
 "nbformat": 4,
 "nbformat_minor": 5
}
